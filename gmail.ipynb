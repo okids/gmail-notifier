{
 "cells": [
  {
   "cell_type": "code",
   "execution_count": 10,
   "metadata": {
    "collapsed": true
   },
   "outputs": [],
   "source": [
    "import smtplib\n",
    "from email.message import EmailMessage"
   ]
  },
  {
   "cell_type": "code",
   "execution_count": 11,
   "metadata": {},
   "outputs": [
    {
     "name": "stdout",
     "output_type": "stream",
     "text": [
      "Email sent!\n"
     ]
    }
   ],
   "source": [
    "gmail_user = 'email'  \n",
    "gmail_password = 'pass'\n",
    "\n",
    "sent_from = gmail_user  \n",
    "to = ['target-email']  \n",
    "subject = 'Error Report'  \n",
    "body = 'ETL Fail'\n",
    "\n",
    "msg = EmailMessage()\n",
    "msg.set_content(body)\n",
    "\n",
    "msg['Subject'] = 'Error Report'\n",
    "msg['From'] = gmail_user\n",
    "msg['To'] = to\n",
    "\n",
    "\n",
    "\n",
    "try:  \n",
    "    server = smtplib.SMTP_SSL('smtp.gmail.com', 465)\n",
    "    server.ehlo()\n",
    "    server.login(gmail_user, gmail_password)\n",
    "    server.send_message(msg)\n",
    "    server.close()\n",
    "\n",
    "    print('Email sent!')\n",
    "except Exception as e:\n",
    "    print(e)\n",
    "    print('Something went wrong...')\n"
   ]
  },
  {
   "cell_type": "code",
   "execution_count": null,
   "metadata": {
    "collapsed": true
   },
   "outputs": [],
   "source": []
  }
 ],
 "metadata": {
  "kernelspec": {
   "display_name": "Python 3",
   "language": "python",
   "name": "python3"
  },
  "language_info": {
   "codemirror_mode": {
    "name": "ipython",
    "version": 3
   },
   "file_extension": ".py",
   "mimetype": "text/x-python",
   "name": "python",
   "nbconvert_exporter": "python",
   "pygments_lexer": "ipython3",
   "version": "3.5.2"
  }
 },
 "nbformat": 4,
 "nbformat_minor": 2
}
